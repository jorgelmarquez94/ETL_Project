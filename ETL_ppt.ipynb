{
 "cells": [
  {
   "cell_type": "code",
   "execution_count": 4,
   "metadata": {
    "slideshow": {
     "slide_type": "skip"
    }
   },
   "outputs": [],
   "source": [
    "# Import dependencies needed for the project\n",
    "import pandas as pd\n",
    "from sqlalchemy import create_engine\n",
    "import datetime as dt"
   ]
  },
  {
   "cell_type": "markdown",
   "metadata": {
    "slideshow": {
     "slide_type": "slide"
    }
   },
   "source": [
    "### ETL PROJECT: Trump Tweets vs MEX dB\n",
    "### Jorge Marquez\n",
    "### Nestor Matus\n",
    "### Gonzalo Cienfuegos"
   ]
  },
  {
   "cell_type": "markdown",
   "metadata": {
    "slideshow": {
     "slide_type": "slide"
    }
   },
   "source": [
    "### EXTRACT - Exchange Rate (MXP/USD) and Tweets CSVs into DF\n",
    "### Source: http://www.banxico.org.mx/tipcamb/tipCamMIAction.do?idioma=sp\n",
    "### Source: http://www.trumptwitterarchive.com/"
   ]
  },
  {
   "cell_type": "code",
   "execution_count": 16,
   "metadata": {
    "slideshow": {
     "slide_type": "fragment"
    }
   },
   "outputs": [
    {
     "data": {
      "text/html": [
       "<div>\n",
       "<style scoped>\n",
       "    .dataframe tbody tr th:only-of-type {\n",
       "        vertical-align: middle;\n",
       "    }\n",
       "\n",
       "    .dataframe tbody tr th {\n",
       "        vertical-align: top;\n",
       "    }\n",
       "\n",
       "    .dataframe thead th {\n",
       "        text-align: right;\n",
       "    }\n",
       "</style>\n",
       "<table border=\"1\" class=\"dataframe\">\n",
       "  <thead>\n",
       "    <tr style=\"text-align: right;\">\n",
       "      <th></th>\n",
       "      <th>Fecha</th>\n",
       "      <th>Determinación</th>\n",
       "      <th>Publicación\n",
       "DOF</th>\n",
       "      <th>Para solventar\n",
       "obligaciones</th>\n",
       "    </tr>\n",
       "  </thead>\n",
       "  <tbody>\n",
       "    <tr>\n",
       "      <th>0</th>\n",
       "      <td>NaN</td>\n",
       "      <td>NaN</td>\n",
       "      <td>NaN</td>\n",
       "      <td>NaN</td>\n",
       "    </tr>\n",
       "    <tr>\n",
       "      <th>1</th>\n",
       "      <td>02/01/2006</td>\n",
       "      <td>10.6253</td>\n",
       "      <td>10.6344</td>\n",
       "      <td>10.7109</td>\n",
       "    </tr>\n",
       "  </tbody>\n",
       "</table>\n",
       "</div>"
      ],
      "text/plain": [
       "        Fecha Determinación Publicación\\nDOF  Para solventar\\nobligaciones\n",
       "0         NaN           NaN              NaN                           NaN\n",
       "1  02/01/2006       10.6253          10.6344                       10.7109"
      ]
     },
     "execution_count": 16,
     "metadata": {},
     "output_type": "execute_result"
    }
   ],
   "source": [
    "# Read csv from given route\n",
    "e_r_data_df = pd.read_csv(\"Resources/exchange_rate.csv\")\n",
    "#read CSV\n",
    "csv_file = \"./Resources/trump_vs_mex.csv\"\n",
    "# Show dataframe data\n",
    "e_r_data_df.head(2)"
   ]
  },
  {
   "cell_type": "code",
   "execution_count": 17,
   "metadata": {
    "slideshow": {
     "slide_type": "fragment"
    }
   },
   "outputs": [
    {
     "data": {
      "text/html": [
       "<div>\n",
       "<style scoped>\n",
       "    .dataframe tbody tr th:only-of-type {\n",
       "        vertical-align: middle;\n",
       "    }\n",
       "\n",
       "    .dataframe tbody tr th {\n",
       "        vertical-align: top;\n",
       "    }\n",
       "\n",
       "    .dataframe thead th {\n",
       "        text-align: right;\n",
       "    }\n",
       "</style>\n",
       "<table border=\"1\" class=\"dataframe\">\n",
       "  <thead>\n",
       "    <tr style=\"text-align: right;\">\n",
       "      <th></th>\n",
       "      <th>source</th>\n",
       "      <th>text</th>\n",
       "      <th>created_at</th>\n",
       "      <th>retweet_count</th>\n",
       "      <th>favorite_count</th>\n",
       "      <th>is_retweet</th>\n",
       "      <th>id_str</th>\n",
       "    </tr>\n",
       "  </thead>\n",
       "  <tbody>\n",
       "    <tr>\n",
       "      <th>0</th>\n",
       "      <td>Twitter for iPhone</td>\n",
       "      <td>RT @VP: Earlier this year President @realDonal...</td>\n",
       "      <td>07/12/2019 22:14</td>\n",
       "      <td>11433.0</td>\n",
       "      <td>0.0</td>\n",
       "      <td>True</td>\n",
       "      <td>1.149800e+18</td>\n",
       "    </tr>\n",
       "    <tr>\n",
       "      <th>1</th>\n",
       "      <td>Twitter for iPhone</td>\n",
       "      <td>....companies to come to the USA and to get co...</td>\n",
       "      <td>07/12/2019 12:48</td>\n",
       "      <td>9842.0</td>\n",
       "      <td>49450.0</td>\n",
       "      <td>False</td>\n",
       "      <td>1.149660e+18</td>\n",
       "    </tr>\n",
       "  </tbody>\n",
       "</table>\n",
       "</div>"
      ],
      "text/plain": [
       "               source                                               text  \\\n",
       "0  Twitter for iPhone  RT @VP: Earlier this year President @realDonal...   \n",
       "1  Twitter for iPhone  ....companies to come to the USA and to get co...   \n",
       "\n",
       "         created_at  retweet_count  favorite_count is_retweet        id_str  \n",
       "0  07/12/2019 22:14        11433.0             0.0       True  1.149800e+18  \n",
       "1  07/12/2019 12:48         9842.0         49450.0      False  1.149660e+18  "
      ]
     },
     "execution_count": 17,
     "metadata": {},
     "output_type": "execute_result"
    }
   ],
   "source": [
    "#Create dataframe and display\n",
    "tweets = pd.read_csv(csv_file, encoding = \"ISO-8859-1\")\n",
    "tweets.head(2)"
   ]
  },
  {
   "cell_type": "markdown",
   "metadata": {
    "slideshow": {
     "slide_type": "slide"
    }
   },
   "source": [
    "### TRANSFORM - Reformat date, columns renaming, slice tweets."
   ]
  },
  {
   "cell_type": "code",
   "execution_count": 18,
   "metadata": {
    "slideshow": {
     "slide_type": "fragment"
    }
   },
   "outputs": [],
   "source": [
    "# Transform date with format Y/M/D to Y-M-D \n",
    "e_r_data_df[\"Fecha\"] = pd.to_datetime(e_r_data_df.Fecha)\n",
    "# Clean column without NA values\n",
    "e_r_data_df = e_r_data_df.dropna(how=\"any\")\n",
    "#e_r_data_df.dtypes\n",
    "#depending on Python Version the output for column #4 is different for the next line"
   ]
  },
  {
   "cell_type": "code",
   "execution_count": 19,
   "metadata": {
    "slideshow": {
     "slide_type": "fragment"
    }
   },
   "outputs": [
    {
     "data": {
      "text/html": [
       "<div>\n",
       "<style scoped>\n",
       "    .dataframe tbody tr th:only-of-type {\n",
       "        vertical-align: middle;\n",
       "    }\n",
       "\n",
       "    .dataframe tbody tr th {\n",
       "        vertical-align: top;\n",
       "    }\n",
       "\n",
       "    .dataframe thead th {\n",
       "        text-align: right;\n",
       "    }\n",
       "</style>\n",
       "<table border=\"1\" class=\"dataframe\">\n",
       "  <thead>\n",
       "    <tr style=\"text-align: right;\">\n",
       "      <th></th>\n",
       "      <th>date</th>\n",
       "      <th>exchange_rate</th>\n",
       "    </tr>\n",
       "  </thead>\n",
       "  <tbody>\n",
       "    <tr>\n",
       "      <th>1</th>\n",
       "      <td>2006-02-01</td>\n",
       "      <td>10.7109</td>\n",
       "    </tr>\n",
       "    <tr>\n",
       "      <th>2</th>\n",
       "      <td>2006-03-01</td>\n",
       "      <td>10.6344</td>\n",
       "    </tr>\n",
       "  </tbody>\n",
       "</table>\n",
       "</div>"
      ],
      "text/plain": [
       "        date  exchange_rate\n",
       "1 2006-02-01        10.7109\n",
       "2 2006-03-01        10.6344"
      ]
     },
     "execution_count": 19,
     "metadata": {},
     "output_type": "execute_result"
    }
   ],
   "source": [
    "#Code lines thar run in Python v.3.6.8:\n",
    "#e_r_data_df = e_r_data_df[[\"Fecha\", \"Para solventar\\r\\nobligaciones\"]]\n",
    "#e_r_data_df = e_r_data_df.rename(columns={'Fecha': 'date', 'Para solventar obligaciones': 'exchange_rate'})\n",
    "#Code lines that run in Python v3.7.3\n",
    "e_r_data_df = e_r_data_df[[\"Fecha\", \"Para solventar\\nobligaciones\"]]\n",
    "e_r_data_df = e_r_data_df.rename(columns={'Fecha': 'date', 'Para solventar\\nobligaciones': 'exchange_rate'})\n",
    "e_r_data_df = e_r_data_df[[\"date\", \"exchange_rate\"]]\n",
    "e_r_data_df.head(2)"
   ]
  },
  {
   "cell_type": "markdown",
   "metadata": {
    "slideshow": {
     "slide_type": "slide"
    }
   },
   "source": [
    "### TRANSFORM (Cont)"
   ]
  },
  {
   "cell_type": "code",
   "execution_count": 31,
   "metadata": {
    "slideshow": {
     "slide_type": "fragment"
    }
   },
   "outputs": [],
   "source": [
    "#Clean data\n",
    "tweets_clean = tweets\n",
    "tweets_clean[\"created_at\"] = pd.to_datetime(tweets_clean[\"created_at\"])\n",
    "tweets_clean['Date'], tweets_clean['Time'] = tweets_clean['created_at'].dt.normalize(), tweets_clean['created_at'].dt.time\n",
    "#tweets_clean.set_index('Date').head(2)"
   ]
  },
  {
   "cell_type": "markdown",
   "metadata": {
    "slideshow": {
     "slide_type": "slide"
    }
   },
   "source": [
    "### TRANSFORM (Cont)"
   ]
  },
  {
   "cell_type": "code",
   "execution_count": 21,
   "metadata": {
    "slideshow": {
     "slide_type": "fragment"
    }
   },
   "outputs": [
    {
     "name": "stderr",
     "output_type": "stream",
     "text": [
      "C:\\Users\\Gonzalo\\Anaconda3\\lib\\site-packages\\ipykernel_launcher.py:12: FutureWarning: Comparing Series of datetimes with 'datetime.date'.  Currently, the\n",
      "'datetime.date' is coerced to a datetime. In the future pandas will\n",
      "not coerce, and a TypeError will be raised. To retain the current\n",
      "behavior, convert the 'datetime.date' to a datetime with\n",
      "'pd.Timestamp'.\n",
      "  if sys.path[0] == '':\n"
     ]
    },
    {
     "data": {
      "text/html": [
       "<div>\n",
       "<style scoped>\n",
       "    .dataframe tbody tr th:only-of-type {\n",
       "        vertical-align: middle;\n",
       "    }\n",
       "\n",
       "    .dataframe tbody tr th {\n",
       "        vertical-align: top;\n",
       "    }\n",
       "\n",
       "    .dataframe thead th {\n",
       "        text-align: right;\n",
       "    }\n",
       "</style>\n",
       "<table border=\"1\" class=\"dataframe\">\n",
       "  <thead>\n",
       "    <tr style=\"text-align: right;\">\n",
       "      <th></th>\n",
       "      <th>date</th>\n",
       "      <th>tweet</th>\n",
       "      <th>retweet_count</th>\n",
       "    </tr>\n",
       "    <tr>\n",
       "      <th>id</th>\n",
       "      <th></th>\n",
       "      <th></th>\n",
       "      <th></th>\n",
       "    </tr>\n",
       "  </thead>\n",
       "  <tbody>\n",
       "    <tr>\n",
       "      <th>1.149660e+18</th>\n",
       "      <td>2019-07-12</td>\n",
       "      <td>....companies to come to the USA and to get co...</td>\n",
       "      <td>9842.0</td>\n",
       "    </tr>\n",
       "    <tr>\n",
       "      <th>1.149660e+18</th>\n",
       "      <td>2019-07-12</td>\n",
       "      <td>.....if Mexico produces (which I think they wi...</td>\n",
       "      <td>10001.0</td>\n",
       "    </tr>\n",
       "  </tbody>\n",
       "</table>\n",
       "</div>"
      ],
      "text/plain": [
       "                   date                                              tweet  \\\n",
       "id                                                                           \n",
       "1.149660e+18 2019-07-12  ....companies to come to the USA and to get co...   \n",
       "1.149660e+18 2019-07-12  .....if Mexico produces (which I think they wi...   \n",
       "\n",
       "              retweet_count  \n",
       "id                           \n",
       "1.149660e+18         9842.0  \n",
       "1.149660e+18        10001.0  "
      ]
     },
     "execution_count": 21,
     "metadata": {},
     "output_type": "execute_result"
    }
   ],
   "source": [
    "#Create new dataframe\n",
    "new_tweets = tweets_clean[[\"Date\", \"id_str\", \"text\",\"retweet_count\"]].set_index('id_str')\n",
    "#rename columns\n",
    "new_tweets = new_tweets.rename(columns={\"text\" :\"tweet\",\"Date\": \"date\"})\n",
    "new_tweets.index.names = ['id']\n",
    "new_tweets = new_tweets.dropna()\n",
    "#drop retweets\n",
    "new_tweets =new_tweets[~new_tweets.tweet.str.startswith('RT @')]\n",
    "#filter by date\n",
    "new_tweets = new_tweets[(new_tweets['date']>dt.date(2015,1,1)) & (new_tweets['date']<dt.date(2019,8,1))]  \n",
    "new_tweets.head(2)"
   ]
  },
  {
   "cell_type": "markdown",
   "metadata": {
    "slideshow": {
     "slide_type": "slide"
    }
   },
   "source": [
    "### TRANSFORM (Cont): Dataframes UNION E/R and Trump's Twitter"
   ]
  },
  {
   "cell_type": "code",
   "execution_count": 30,
   "metadata": {
    "slideshow": {
     "slide_type": "fragment"
    }
   },
   "outputs": [
    {
     "data": {
      "text/html": [
       "<div>\n",
       "<style scoped>\n",
       "    .dataframe tbody tr th:only-of-type {\n",
       "        vertical-align: middle;\n",
       "    }\n",
       "\n",
       "    .dataframe tbody tr th {\n",
       "        vertical-align: top;\n",
       "    }\n",
       "\n",
       "    .dataframe thead th {\n",
       "        text-align: right;\n",
       "    }\n",
       "</style>\n",
       "<table border=\"1\" class=\"dataframe\">\n",
       "  <thead>\n",
       "    <tr style=\"text-align: right;\">\n",
       "      <th></th>\n",
       "      <th>tweet</th>\n",
       "      <th>retweet_count</th>\n",
       "      <th>exchange_rate</th>\n",
       "    </tr>\n",
       "    <tr>\n",
       "      <th>date</th>\n",
       "      <th></th>\n",
       "      <th></th>\n",
       "      <th></th>\n",
       "    </tr>\n",
       "  </thead>\n",
       "  <tbody>\n",
       "    <tr>\n",
       "      <th>2019-07-03</th>\n",
       "      <td>Mexico is doing a far better job than the Demo...</td>\n",
       "      <td>24713.0</td>\n",
       "      <td>19.2597</td>\n",
       "    </tr>\n",
       "    <tr>\n",
       "      <th>2019-06-27</th>\n",
       "      <td>Bipartisan Humanitarian Aid Bill for the South...</td>\n",
       "      <td>25170.0</td>\n",
       "      <td>19.2271</td>\n",
       "    </tr>\n",
       "    <tr>\n",
       "      <th>2019-06-23</th>\n",
       "      <td>I want to give the Democrats every last chance...</td>\n",
       "      <td>24276.0</td>\n",
       "      <td>18.9804</td>\n",
       "    </tr>\n",
       "    <tr>\n",
       "      <th>2019-06-19</th>\n",
       "      <td>Congratulations to President Lopez Obrador  M...</td>\n",
       "      <td>22674.0</td>\n",
       "      <td>19.1924</td>\n",
       "    </tr>\n",
       "    <tr>\n",
       "      <th>2019-06-18</th>\n",
       "      <td>Next week ICE will begin the process of removi...</td>\n",
       "      <td>37105.0</td>\n",
       "      <td>19.1487</td>\n",
       "    </tr>\n",
       "    <tr>\n",
       "      <th>2019-06-08</th>\n",
       "      <td>I would like to thank the President of Mexico ...</td>\n",
       "      <td>29037.0</td>\n",
       "      <td>19.3116</td>\n",
       "    </tr>\n",
       "    <tr>\n",
       "      <th>2019-06-08</th>\n",
       "      <td>Everyone very excited about the new deal with ...</td>\n",
       "      <td>20616.0</td>\n",
       "      <td>19.3116</td>\n",
       "    </tr>\n",
       "    <tr>\n",
       "      <th>2019-06-08</th>\n",
       "      <td>MEXICO HAS AGREED TO IMMEDIATELY BEGIN BUYING ...</td>\n",
       "      <td>34068.0</td>\n",
       "      <td>19.3116</td>\n",
       "    </tr>\n",
       "    <tr>\n",
       "      <th>2019-06-08</th>\n",
       "      <td>Mexico will try very hard and if they do that ...</td>\n",
       "      <td>17182.0</td>\n",
       "      <td>19.3116</td>\n",
       "    </tr>\n",
       "    <tr>\n",
       "      <th>2019-06-08</th>\n",
       "      <td>Brandon Judd National Border Patrol Council: ...</td>\n",
       "      <td>16512.0</td>\n",
       "      <td>19.3116</td>\n",
       "    </tr>\n",
       "    <tr>\n",
       "      <th>2019-06-08</th>\n",
       "      <td>While the reviews and reporting on our Border ...</td>\n",
       "      <td>15815.0</td>\n",
       "      <td>19.3116</td>\n",
       "    </tr>\n",
       "    <tr>\n",
       "      <th>2019-06-08</th>\n",
       "      <td>I am pleased to inform you that The United Sta...</td>\n",
       "      <td>55891.0</td>\n",
       "      <td>19.3116</td>\n",
       "    </tr>\n",
       "    <tr>\n",
       "      <th>2019-06-08</th>\n",
       "      <td>....stem the tide of Migration through Mexico ...</td>\n",
       "      <td>38079.0</td>\n",
       "      <td>19.3116</td>\n",
       "    </tr>\n",
       "    <tr>\n",
       "      <th>2019-06-08</th>\n",
       "      <td>I am pleased to inform you that The United Sta...</td>\n",
       "      <td>2659.0</td>\n",
       "      <td>19.3116</td>\n",
       "    </tr>\n",
       "    <tr>\n",
       "      <th>2019-06-08</th>\n",
       "      <td>....stem the tide of Migration through Mexico ...</td>\n",
       "      <td>2319.0</td>\n",
       "      <td>19.3116</td>\n",
       "    </tr>\n",
       "  </tbody>\n",
       "</table>\n",
       "</div>"
      ],
      "text/plain": [
       "                                                        tweet  retweet_count  \\\n",
       "date                                                                           \n",
       "2019-07-03  Mexico is doing a far better job than the Demo...        24713.0   \n",
       "2019-06-27  Bipartisan Humanitarian Aid Bill for the South...        25170.0   \n",
       "2019-06-23  I want to give the Democrats every last chance...        24276.0   \n",
       "2019-06-19  Congratulations to President Lopez Obrador  M...        22674.0   \n",
       "2019-06-18  Next week ICE will begin the process of removi...        37105.0   \n",
       "2019-06-08  I would like to thank the President of Mexico ...        29037.0   \n",
       "2019-06-08  Everyone very excited about the new deal with ...        20616.0   \n",
       "2019-06-08  MEXICO HAS AGREED TO IMMEDIATELY BEGIN BUYING ...        34068.0   \n",
       "2019-06-08  Mexico will try very hard and if they do that ...        17182.0   \n",
       "2019-06-08  Brandon Judd National Border Patrol Council: ...        16512.0   \n",
       "2019-06-08  While the reviews and reporting on our Border ...        15815.0   \n",
       "2019-06-08  I am pleased to inform you that The United Sta...        55891.0   \n",
       "2019-06-08  ....stem the tide of Migration through Mexico ...        38079.0   \n",
       "2019-06-08  I am pleased to inform you that The United Sta...         2659.0   \n",
       "2019-06-08  ....stem the tide of Migration through Mexico ...         2319.0   \n",
       "\n",
       "            exchange_rate  \n",
       "date                       \n",
       "2019-07-03        19.2597  \n",
       "2019-06-27        19.2271  \n",
       "2019-06-23        18.9804  \n",
       "2019-06-19        19.1924  \n",
       "2019-06-18        19.1487  \n",
       "2019-06-08        19.3116  \n",
       "2019-06-08        19.3116  \n",
       "2019-06-08        19.3116  \n",
       "2019-06-08        19.3116  \n",
       "2019-06-08        19.3116  \n",
       "2019-06-08        19.3116  \n",
       "2019-06-08        19.3116  \n",
       "2019-06-08        19.3116  \n",
       "2019-06-08        19.3116  \n",
       "2019-06-08        19.3116  "
      ]
     },
     "execution_count": 30,
     "metadata": {},
     "output_type": "execute_result"
    }
   ],
   "source": [
    "union_df = pd.merge(new_tweets, e_r_data_df, how='inner', on = 'date').set_index(['date'])\n",
    "union_df.head(15)"
   ]
  },
  {
   "cell_type": "markdown",
   "metadata": {
    "slideshow": {
     "slide_type": "slide"
    }
   },
   "source": [
    "### LOAD: Create database connection and load information into dB"
   ]
  },
  {
   "cell_type": "code",
   "execution_count": 23,
   "metadata": {
    "slideshow": {
     "slide_type": "fragment"
    }
   },
   "outputs": [],
   "source": [
    "connection_string = \"postgres:postgres@localhost:5432/trump_vs_mex_db\"\n",
    "engine = create_engine(f'postgresql://{connection_string}')"
   ]
  },
  {
   "cell_type": "code",
   "execution_count": 24,
   "metadata": {
    "slideshow": {
     "slide_type": "fragment"
    }
   },
   "outputs": [
    {
     "data": {
      "text/plain": [
       "['trump_twitter']"
      ]
     },
     "execution_count": 24,
     "metadata": {},
     "output_type": "execute_result"
    }
   ],
   "source": [
    "# Confirm tables\n",
    "engine.table_names()"
   ]
  },
  {
   "cell_type": "markdown",
   "metadata": {
    "slideshow": {
     "slide_type": "skip"
    }
   },
   "source": [
    "### Load DataFrames into database"
   ]
  },
  {
   "cell_type": "code",
   "execution_count": 25,
   "metadata": {
    "slideshow": {
     "slide_type": "fragment"
    }
   },
   "outputs": [],
   "source": [
    "union_df.to_sql(name='trump_twitter', con=engine, if_exists='append', index = True)"
   ]
  },
  {
   "cell_type": "markdown",
   "metadata": {
    "slideshow": {
     "slide_type": "slide"
    }
   },
   "source": [
    "### VISUALIZATION"
   ]
  },
  {
   "cell_type": "code",
   "execution_count": null,
   "metadata": {
    "slideshow": {
     "slide_type": "skip"
    }
   },
   "outputs": [],
   "source": []
  },
  {
   "cell_type": "code",
   "execution_count": null,
   "metadata": {
    "slideshow": {
     "slide_type": "skip"
    }
   },
   "outputs": [],
   "source": []
  },
  {
   "cell_type": "code",
   "execution_count": null,
   "metadata": {},
   "outputs": [],
   "source": []
  }
 ],
 "metadata": {
  "celltoolbar": "Slideshow",
  "kernelspec": {
   "display_name": "Python 3",
   "language": "python",
   "name": "python3"
  },
  "language_info": {
   "codemirror_mode": {
    "name": "ipython",
    "version": 3
   },
   "file_extension": ".py",
   "mimetype": "text/x-python",
   "name": "python",
   "nbconvert_exporter": "python",
   "pygments_lexer": "ipython3",
   "version": "3.7.3"
  },
  "nteract": {
   "version": "0.12.3"
  }
 },
 "nbformat": 4,
 "nbformat_minor": 2
}
