{
 "cells": [
  {
   "cell_type": "code",
   "execution_count": null,
   "metadata": {},
   "outputs": [],
   "source": [
    "# Import dependencies needed for the project\n",
    "import pandas as pd\n",
    "from sqlalchemy import create_engine\n",
    "import datetime as dt"
   ]
  },
  {
   "cell_type": "markdown",
   "metadata": {
    "slideshow": {
     "slide_type": "-"
    }
   },
   "source": [
    "### Store CSV into DataFrame"
   ]
  },
  {
   "cell_type": "code",
   "execution_count": 2,
   "metadata": {},
   "outputs": [
    {
     "data": {
      "text/html": [
       "<div>\n",
       "<style scoped>\n",
       "    .dataframe tbody tr th:only-of-type {\n",
       "        vertical-align: middle;\n",
       "    }\n",
       "\n",
       "    .dataframe tbody tr th {\n",
       "        vertical-align: top;\n",
       "    }\n",
       "\n",
       "    .dataframe thead th {\n",
       "        text-align: right;\n",
       "    }\n",
       "</style>\n",
       "<table border=\"1\" class=\"dataframe\">\n",
       "  <thead>\n",
       "    <tr style=\"text-align: right;\">\n",
       "      <th></th>\n",
       "      <th>Fecha</th>\n",
       "      <th>Determinación</th>\n",
       "      <th>Publicación\n",
       "DOF</th>\n",
       "      <th>Para solventar\n",
       "obligaciones</th>\n",
       "    </tr>\n",
       "  </thead>\n",
       "  <tbody>\n",
       "    <tr>\n",
       "      <th>0</th>\n",
       "      <td>NaN</td>\n",
       "      <td>NaN</td>\n",
       "      <td>NaN</td>\n",
       "      <td>NaN</td>\n",
       "    </tr>\n",
       "    <tr>\n",
       "      <th>1</th>\n",
       "      <td>02/01/2006</td>\n",
       "      <td>10.6253</td>\n",
       "      <td>10.6344</td>\n",
       "      <td>10.7109</td>\n",
       "    </tr>\n",
       "    <tr>\n",
       "      <th>2</th>\n",
       "      <td>03/01/2006</td>\n",
       "      <td>10.6455</td>\n",
       "      <td>10.6253</td>\n",
       "      <td>10.6344</td>\n",
       "    </tr>\n",
       "    <tr>\n",
       "      <th>3</th>\n",
       "      <td>04/01/2006</td>\n",
       "      <td>10.5815</td>\n",
       "      <td>10.6455</td>\n",
       "      <td>10.6253</td>\n",
       "    </tr>\n",
       "    <tr>\n",
       "      <th>4</th>\n",
       "      <td>05/01/2006</td>\n",
       "      <td>10.5907</td>\n",
       "      <td>10.5815</td>\n",
       "      <td>10.6455</td>\n",
       "    </tr>\n",
       "  </tbody>\n",
       "</table>\n",
       "</div>"
      ],
      "text/plain": [
       "        Fecha Determinación Publicación\\nDOF  Para solventar\\nobligaciones\n",
       "0         NaN           NaN              NaN                           NaN\n",
       "1  02/01/2006       10.6253          10.6344                       10.7109\n",
       "2  03/01/2006       10.6455          10.6253                       10.6344\n",
       "3  04/01/2006       10.5815          10.6455                       10.6253\n",
       "4  05/01/2006       10.5907          10.5815                       10.6455"
      ]
     },
     "execution_count": 2,
     "metadata": {},
     "output_type": "execute_result"
    }
   ],
   "source": [
    "# Read csv from given route\n",
    "e_r_data_df = pd.read_csv(\"Resources/exchange_rate.csv\")\n",
    "\n",
    "# Show dataframe data\n",
    "e_r_data_df.head()"
   ]
  },
  {
   "cell_type": "code",
   "execution_count": 3,
   "metadata": {},
   "outputs": [
    {
     "data": {
      "text/plain": [
       "Fecha                           datetime64[ns]\n",
       "Determinación                           object\n",
       "Publicación\\nDOF                        object\n",
       "Para solventar\\nobligaciones           float64\n",
       "dtype: object"
      ]
     },
     "execution_count": 3,
     "metadata": {},
     "output_type": "execute_result"
    }
   ],
   "source": [
    "# Transform date with format Y/M/D to Y-M-D \n",
    "e_r_data_df[\"Fecha\"] = pd.to_datetime(e_r_data_df.Fecha)\n",
    "\n",
    "# Clean column without NA values\n",
    "e_r_data_df = e_r_data_df.dropna(how=\"any\")\n",
    "\n",
    "e_r_data_df.dtypes\n",
    "#depending on Python Version the output for column #4 is different for the next code step"
   ]
  },
  {
   "cell_type": "code",
   "execution_count": 4,
   "metadata": {},
   "outputs": [
    {
     "data": {
      "text/html": [
       "<div>\n",
       "<style scoped>\n",
       "    .dataframe tbody tr th:only-of-type {\n",
       "        vertical-align: middle;\n",
       "    }\n",
       "\n",
       "    .dataframe tbody tr th {\n",
       "        vertical-align: top;\n",
       "    }\n",
       "\n",
       "    .dataframe thead th {\n",
       "        text-align: right;\n",
       "    }\n",
       "</style>\n",
       "<table border=\"1\" class=\"dataframe\">\n",
       "  <thead>\n",
       "    <tr style=\"text-align: right;\">\n",
       "      <th></th>\n",
       "      <th>date</th>\n",
       "      <th>exchange_rate</th>\n",
       "    </tr>\n",
       "  </thead>\n",
       "  <tbody>\n",
       "    <tr>\n",
       "      <th>1</th>\n",
       "      <td>2006-02-01</td>\n",
       "      <td>10.7109</td>\n",
       "    </tr>\n",
       "    <tr>\n",
       "      <th>2</th>\n",
       "      <td>2006-03-01</td>\n",
       "      <td>10.6344</td>\n",
       "    </tr>\n",
       "    <tr>\n",
       "      <th>3</th>\n",
       "      <td>2006-04-01</td>\n",
       "      <td>10.6253</td>\n",
       "    </tr>\n",
       "    <tr>\n",
       "      <th>4</th>\n",
       "      <td>2006-05-01</td>\n",
       "      <td>10.6455</td>\n",
       "    </tr>\n",
       "    <tr>\n",
       "      <th>5</th>\n",
       "      <td>2006-06-01</td>\n",
       "      <td>10.5815</td>\n",
       "    </tr>\n",
       "  </tbody>\n",
       "</table>\n",
       "</div>"
      ],
      "text/plain": [
       "        date  exchange_rate\n",
       "1 2006-02-01        10.7109\n",
       "2 2006-03-01        10.6344\n",
       "3 2006-04-01        10.6253\n",
       "4 2006-05-01        10.6455\n",
       "5 2006-06-01        10.5815"
      ]
     },
     "execution_count": 4,
     "metadata": {},
     "output_type": "execute_result"
    }
   ],
   "source": [
    "#Code lines thar run in Python v.3.6.8:\n",
    "#e_r_data_df = e_r_data_df[[\"Fecha\", \"Para solventar\\r\\nobligaciones\"]]\n",
    "#e_r_data_df = e_r_data_df.rename(columns={'Fecha': 'date', 'Para solventar obligaciones': 'exchange_rate'})\n",
    "#Code lines that run in Python v3.7.3\n",
    "e_r_data_df = e_r_data_df[[\"Fecha\", \"Para solventar\\nobligaciones\"]]\n",
    "e_r_data_df = e_r_data_df.rename(columns={'Fecha': 'date', 'Para solventar\\nobligaciones': 'exchange_rate'})\n",
    "e_r_data_df = e_r_data_df[[\"date\", \"exchange_rate\"]]\n",
    "e_r_data_df.head()"
   ]
  },
  {
   "cell_type": "markdown",
   "metadata": {},
   "source": [
    "### Store CSV into DataFrame"
   ]
  },
  {
   "cell_type": "code",
   "execution_count": 5,
   "metadata": {},
   "outputs": [],
   "source": [
    "#read CSV\n",
    "csv_file = \"./Resources/trump_vs_mex.csv\""
   ]
  },
  {
   "cell_type": "code",
   "execution_count": 6,
   "metadata": {},
   "outputs": [
    {
     "data": {
      "text/html": [
       "<div>\n",
       "<style scoped>\n",
       "    .dataframe tbody tr th:only-of-type {\n",
       "        vertical-align: middle;\n",
       "    }\n",
       "\n",
       "    .dataframe tbody tr th {\n",
       "        vertical-align: top;\n",
       "    }\n",
       "\n",
       "    .dataframe thead th {\n",
       "        text-align: right;\n",
       "    }\n",
       "</style>\n",
       "<table border=\"1\" class=\"dataframe\">\n",
       "  <thead>\n",
       "    <tr style=\"text-align: right;\">\n",
       "      <th></th>\n",
       "      <th>source</th>\n",
       "      <th>text</th>\n",
       "      <th>created_at</th>\n",
       "      <th>retweet_count</th>\n",
       "      <th>favorite_count</th>\n",
       "      <th>is_retweet</th>\n",
       "      <th>id_str</th>\n",
       "    </tr>\n",
       "  </thead>\n",
       "  <tbody>\n",
       "    <tr>\n",
       "      <th>0</th>\n",
       "      <td>Twitter for iPhone</td>\n",
       "      <td>RT @VP: Earlier this year President @realDonal...</td>\n",
       "      <td>07/12/2019 22:14</td>\n",
       "      <td>11433.0</td>\n",
       "      <td>0.0</td>\n",
       "      <td>True</td>\n",
       "      <td>1.149800e+18</td>\n",
       "    </tr>\n",
       "    <tr>\n",
       "      <th>1</th>\n",
       "      <td>Twitter for iPhone</td>\n",
       "      <td>....companies to come to the USA and to get co...</td>\n",
       "      <td>07/12/2019 12:48</td>\n",
       "      <td>9842.0</td>\n",
       "      <td>49450.0</td>\n",
       "      <td>False</td>\n",
       "      <td>1.149660e+18</td>\n",
       "    </tr>\n",
       "    <tr>\n",
       "      <th>2</th>\n",
       "      <td>Twitter for iPhone</td>\n",
       "      <td>.....if Mexico produces (which I think they wi...</td>\n",
       "      <td>07/12/2019 12:48</td>\n",
       "      <td>10001.0</td>\n",
       "      <td>50049.0</td>\n",
       "      <td>False</td>\n",
       "      <td>1.149660e+18</td>\n",
       "    </tr>\n",
       "    <tr>\n",
       "      <th>3</th>\n",
       "      <td>Twitter for iPhone</td>\n",
       "      <td>RT @PAChamber: Trade with Canada and Mexico su...</td>\n",
       "      <td>07/12/2019 03:26</td>\n",
       "      <td>4308.0</td>\n",
       "      <td>0.0</td>\n",
       "      <td>True</td>\n",
       "      <td>1.149520e+18</td>\n",
       "    </tr>\n",
       "    <tr>\n",
       "      <th>4</th>\n",
       "      <td>Twitter for iPhone</td>\n",
       "      <td>Mexico is doing great at the Border but China ...</td>\n",
       "      <td>07/11/2019 14:04</td>\n",
       "      <td>11612.0</td>\n",
       "      <td>48964.0</td>\n",
       "      <td>False</td>\n",
       "      <td>1.149320e+18</td>\n",
       "    </tr>\n",
       "  </tbody>\n",
       "</table>\n",
       "</div>"
      ],
      "text/plain": [
       "               source                                               text  \\\n",
       "0  Twitter for iPhone  RT @VP: Earlier this year President @realDonal...   \n",
       "1  Twitter for iPhone  ....companies to come to the USA and to get co...   \n",
       "2  Twitter for iPhone  .....if Mexico produces (which I think they wi...   \n",
       "3  Twitter for iPhone  RT @PAChamber: Trade with Canada and Mexico su...   \n",
       "4  Twitter for iPhone  Mexico is doing great at the Border but China ...   \n",
       "\n",
       "         created_at  retweet_count  favorite_count is_retweet        id_str  \n",
       "0  07/12/2019 22:14        11433.0             0.0       True  1.149800e+18  \n",
       "1  07/12/2019 12:48         9842.0         49450.0      False  1.149660e+18  \n",
       "2  07/12/2019 12:48        10001.0         50049.0      False  1.149660e+18  \n",
       "3  07/12/2019 03:26         4308.0             0.0       True  1.149520e+18  \n",
       "4  07/11/2019 14:04        11612.0         48964.0      False  1.149320e+18  "
      ]
     },
     "execution_count": 6,
     "metadata": {},
     "output_type": "execute_result"
    }
   ],
   "source": [
    "#Create dataframe and display\n",
    "tweets = pd.read_csv(csv_file, encoding = \"ISO-8859-1\")\n",
    "tweets.head()"
   ]
  },
  {
   "cell_type": "code",
   "execution_count": 7,
   "metadata": {},
   "outputs": [
    {
     "data": {
      "text/html": [
       "<div>\n",
       "<style scoped>\n",
       "    .dataframe tbody tr th:only-of-type {\n",
       "        vertical-align: middle;\n",
       "    }\n",
       "\n",
       "    .dataframe tbody tr th {\n",
       "        vertical-align: top;\n",
       "    }\n",
       "\n",
       "    .dataframe thead th {\n",
       "        text-align: right;\n",
       "    }\n",
       "</style>\n",
       "<table border=\"1\" class=\"dataframe\">\n",
       "  <thead>\n",
       "    <tr style=\"text-align: right;\">\n",
       "      <th></th>\n",
       "      <th>source</th>\n",
       "      <th>text</th>\n",
       "      <th>created_at</th>\n",
       "      <th>retweet_count</th>\n",
       "      <th>favorite_count</th>\n",
       "      <th>is_retweet</th>\n",
       "      <th>id_str</th>\n",
       "      <th>Time</th>\n",
       "    </tr>\n",
       "    <tr>\n",
       "      <th>Date</th>\n",
       "      <th></th>\n",
       "      <th></th>\n",
       "      <th></th>\n",
       "      <th></th>\n",
       "      <th></th>\n",
       "      <th></th>\n",
       "      <th></th>\n",
       "      <th></th>\n",
       "    </tr>\n",
       "  </thead>\n",
       "  <tbody>\n",
       "    <tr>\n",
       "      <th>2019-07-12</th>\n",
       "      <td>Twitter for iPhone</td>\n",
       "      <td>RT @VP: Earlier this year President @realDonal...</td>\n",
       "      <td>2019-07-12 22:14:00</td>\n",
       "      <td>11433.0</td>\n",
       "      <td>0.0</td>\n",
       "      <td>True</td>\n",
       "      <td>1.149800e+18</td>\n",
       "      <td>22:14:00</td>\n",
       "    </tr>\n",
       "    <tr>\n",
       "      <th>2019-07-12</th>\n",
       "      <td>Twitter for iPhone</td>\n",
       "      <td>....companies to come to the USA and to get co...</td>\n",
       "      <td>2019-07-12 12:48:00</td>\n",
       "      <td>9842.0</td>\n",
       "      <td>49450.0</td>\n",
       "      <td>False</td>\n",
       "      <td>1.149660e+18</td>\n",
       "      <td>12:48:00</td>\n",
       "    </tr>\n",
       "    <tr>\n",
       "      <th>2019-07-12</th>\n",
       "      <td>Twitter for iPhone</td>\n",
       "      <td>.....if Mexico produces (which I think they wi...</td>\n",
       "      <td>2019-07-12 12:48:00</td>\n",
       "      <td>10001.0</td>\n",
       "      <td>50049.0</td>\n",
       "      <td>False</td>\n",
       "      <td>1.149660e+18</td>\n",
       "      <td>12:48:00</td>\n",
       "    </tr>\n",
       "    <tr>\n",
       "      <th>2019-07-12</th>\n",
       "      <td>Twitter for iPhone</td>\n",
       "      <td>RT @PAChamber: Trade with Canada and Mexico su...</td>\n",
       "      <td>2019-07-12 03:26:00</td>\n",
       "      <td>4308.0</td>\n",
       "      <td>0.0</td>\n",
       "      <td>True</td>\n",
       "      <td>1.149520e+18</td>\n",
       "      <td>03:26:00</td>\n",
       "    </tr>\n",
       "    <tr>\n",
       "      <th>2019-07-11</th>\n",
       "      <td>Twitter for iPhone</td>\n",
       "      <td>Mexico is doing great at the Border but China ...</td>\n",
       "      <td>2019-07-11 14:04:00</td>\n",
       "      <td>11612.0</td>\n",
       "      <td>48964.0</td>\n",
       "      <td>False</td>\n",
       "      <td>1.149320e+18</td>\n",
       "      <td>14:04:00</td>\n",
       "    </tr>\n",
       "  </tbody>\n",
       "</table>\n",
       "</div>"
      ],
      "text/plain": [
       "                        source  \\\n",
       "Date                             \n",
       "2019-07-12  Twitter for iPhone   \n",
       "2019-07-12  Twitter for iPhone   \n",
       "2019-07-12  Twitter for iPhone   \n",
       "2019-07-12  Twitter for iPhone   \n",
       "2019-07-11  Twitter for iPhone   \n",
       "\n",
       "                                                         text  \\\n",
       "Date                                                            \n",
       "2019-07-12  RT @VP: Earlier this year President @realDonal...   \n",
       "2019-07-12  ....companies to come to the USA and to get co...   \n",
       "2019-07-12  .....if Mexico produces (which I think they wi...   \n",
       "2019-07-12  RT @PAChamber: Trade with Canada and Mexico su...   \n",
       "2019-07-11  Mexico is doing great at the Border but China ...   \n",
       "\n",
       "                    created_at  retweet_count  favorite_count is_retweet  \\\n",
       "Date                                                                       \n",
       "2019-07-12 2019-07-12 22:14:00        11433.0             0.0       True   \n",
       "2019-07-12 2019-07-12 12:48:00         9842.0         49450.0      False   \n",
       "2019-07-12 2019-07-12 12:48:00        10001.0         50049.0      False   \n",
       "2019-07-12 2019-07-12 03:26:00         4308.0             0.0       True   \n",
       "2019-07-11 2019-07-11 14:04:00        11612.0         48964.0      False   \n",
       "\n",
       "                  id_str      Time  \n",
       "Date                                \n",
       "2019-07-12  1.149800e+18  22:14:00  \n",
       "2019-07-12  1.149660e+18  12:48:00  \n",
       "2019-07-12  1.149660e+18  12:48:00  \n",
       "2019-07-12  1.149520e+18  03:26:00  \n",
       "2019-07-11  1.149320e+18  14:04:00  "
      ]
     },
     "execution_count": 7,
     "metadata": {},
     "output_type": "execute_result"
    }
   ],
   "source": [
    "#Clean data\n",
    "tweets_clean = tweets\n",
    "tweets_clean[\"created_at\"] = pd.to_datetime(tweets_clean[\"created_at\"])\n",
    "tweets_clean['Date'], tweets_clean['Time'] = tweets_clean['created_at'].dt.normalize(), tweets_clean['created_at'].dt.time\n",
    "tweets_clean.set_index('Date').head()"
   ]
  },
  {
   "cell_type": "code",
   "execution_count": 8,
   "metadata": {},
   "outputs": [
    {
     "name": "stderr",
     "output_type": "stream",
     "text": [
      "C:\\Users\\Gonzalo\\Anaconda3\\lib\\site-packages\\ipykernel_launcher.py:12: FutureWarning: Comparing Series of datetimes with 'datetime.date'.  Currently, the\n",
      "'datetime.date' is coerced to a datetime. In the future pandas will\n",
      "not coerce, and a TypeError will be raised. To retain the current\n",
      "behavior, convert the 'datetime.date' to a datetime with\n",
      "'pd.Timestamp'.\n",
      "  if sys.path[0] == '':\n"
     ]
    }
   ],
   "source": [
    "#Create new dataframe\n",
    "new_tweets = tweets_clean[[\"Date\", \"id_str\", \"text\",\"retweet_count\"]].set_index('id_str')\n",
    "#rename columns\n",
    "new_tweets = new_tweets.rename(columns={\"text\" :\"tweet\", \n",
    "                           \"Date\": \"date\"})\n",
    "new_tweets.index.names = ['id']\n",
    "new_tweets = new_tweets.dropna()\n",
    "#drop retweets\n",
    "new_tweets =new_tweets[~new_tweets.tweet.str.startswith('RT @')]\n",
    "#filter by date\n",
    "#new_tweets.loc['2015-01-01':'2019-08-22']\n",
    "new_tweets = new_tweets[(new_tweets['date']>dt.date(2015,1,1)) & (new_tweets['date']<dt.date(2019,8,1))]  "
   ]
  },
  {
   "cell_type": "code",
   "execution_count": 9,
   "metadata": {},
   "outputs": [
    {
     "data": {
      "text/html": [
       "<div>\n",
       "<style scoped>\n",
       "    .dataframe tbody tr th:only-of-type {\n",
       "        vertical-align: middle;\n",
       "    }\n",
       "\n",
       "    .dataframe tbody tr th {\n",
       "        vertical-align: top;\n",
       "    }\n",
       "\n",
       "    .dataframe thead th {\n",
       "        text-align: right;\n",
       "    }\n",
       "</style>\n",
       "<table border=\"1\" class=\"dataframe\">\n",
       "  <thead>\n",
       "    <tr style=\"text-align: right;\">\n",
       "      <th></th>\n",
       "      <th>date</th>\n",
       "      <th>tweet</th>\n",
       "      <th>retweet_count</th>\n",
       "    </tr>\n",
       "    <tr>\n",
       "      <th>id</th>\n",
       "      <th></th>\n",
       "      <th></th>\n",
       "      <th></th>\n",
       "    </tr>\n",
       "  </thead>\n",
       "  <tbody>\n",
       "    <tr>\n",
       "      <th>1.149660e+18</th>\n",
       "      <td>2019-07-12</td>\n",
       "      <td>....companies to come to the USA and to get co...</td>\n",
       "      <td>9842.0</td>\n",
       "    </tr>\n",
       "    <tr>\n",
       "      <th>1.149660e+18</th>\n",
       "      <td>2019-07-12</td>\n",
       "      <td>.....if Mexico produces (which I think they wi...</td>\n",
       "      <td>10001.0</td>\n",
       "    </tr>\n",
       "    <tr>\n",
       "      <th>1.149320e+18</th>\n",
       "      <td>2019-07-11</td>\n",
       "      <td>Mexico is doing great at the Border but China ...</td>\n",
       "      <td>11612.0</td>\n",
       "    </tr>\n",
       "    <tr>\n",
       "      <th>1.146510e+18</th>\n",
       "      <td>2019-07-03</td>\n",
       "      <td>Mexico is doing a far better job than the Demo...</td>\n",
       "      <td>24713.0</td>\n",
       "    </tr>\n",
       "    <tr>\n",
       "      <th>1.144370e+18</th>\n",
       "      <td>2019-06-27</td>\n",
       "      <td>Bipartisan Humanitarian Aid Bill for the South...</td>\n",
       "      <td>25170.0</td>\n",
       "    </tr>\n",
       "  </tbody>\n",
       "</table>\n",
       "</div>"
      ],
      "text/plain": [
       "                   date                                              tweet  \\\n",
       "id                                                                           \n",
       "1.149660e+18 2019-07-12  ....companies to come to the USA and to get co...   \n",
       "1.149660e+18 2019-07-12  .....if Mexico produces (which I think they wi...   \n",
       "1.149320e+18 2019-07-11  Mexico is doing great at the Border but China ...   \n",
       "1.146510e+18 2019-07-03  Mexico is doing a far better job than the Demo...   \n",
       "1.144370e+18 2019-06-27  Bipartisan Humanitarian Aid Bill for the South...   \n",
       "\n",
       "              retweet_count  \n",
       "id                           \n",
       "1.149660e+18         9842.0  \n",
       "1.149660e+18        10001.0  \n",
       "1.149320e+18        11612.0  \n",
       "1.146510e+18        24713.0  \n",
       "1.144370e+18        25170.0  "
      ]
     },
     "execution_count": 9,
     "metadata": {},
     "output_type": "execute_result"
    }
   ],
   "source": [
    "new_tweets.head()"
   ]
  },
  {
   "cell_type": "markdown",
   "metadata": {},
   "source": [
    "### Union dataframe from Rate Exchange and Trump's Twitter"
   ]
  },
  {
   "cell_type": "code",
   "execution_count": 10,
   "metadata": {},
   "outputs": [
    {
     "data": {
      "text/html": [
       "<div>\n",
       "<style scoped>\n",
       "    .dataframe tbody tr th:only-of-type {\n",
       "        vertical-align: middle;\n",
       "    }\n",
       "\n",
       "    .dataframe tbody tr th {\n",
       "        vertical-align: top;\n",
       "    }\n",
       "\n",
       "    .dataframe thead th {\n",
       "        text-align: right;\n",
       "    }\n",
       "</style>\n",
       "<table border=\"1\" class=\"dataframe\">\n",
       "  <thead>\n",
       "    <tr style=\"text-align: right;\">\n",
       "      <th></th>\n",
       "      <th>tweet</th>\n",
       "      <th>retweet_count</th>\n",
       "      <th>exchange_rate</th>\n",
       "    </tr>\n",
       "    <tr>\n",
       "      <th>date</th>\n",
       "      <th></th>\n",
       "      <th></th>\n",
       "      <th></th>\n",
       "    </tr>\n",
       "  </thead>\n",
       "  <tbody>\n",
       "    <tr>\n",
       "      <th>2019-07-03</th>\n",
       "      <td>Mexico is doing a far better job than the Demo...</td>\n",
       "      <td>24713.0</td>\n",
       "      <td>19.2597</td>\n",
       "    </tr>\n",
       "    <tr>\n",
       "      <th>2019-06-27</th>\n",
       "      <td>Bipartisan Humanitarian Aid Bill for the South...</td>\n",
       "      <td>25170.0</td>\n",
       "      <td>19.2271</td>\n",
       "    </tr>\n",
       "    <tr>\n",
       "      <th>2019-06-23</th>\n",
       "      <td>I want to give the Democrats every last chance...</td>\n",
       "      <td>24276.0</td>\n",
       "      <td>18.9804</td>\n",
       "    </tr>\n",
       "    <tr>\n",
       "      <th>2019-06-19</th>\n",
       "      <td>Congratulations to President Lopez Obrador  M...</td>\n",
       "      <td>22674.0</td>\n",
       "      <td>19.1924</td>\n",
       "    </tr>\n",
       "    <tr>\n",
       "      <th>2019-06-18</th>\n",
       "      <td>Next week ICE will begin the process of removi...</td>\n",
       "      <td>37105.0</td>\n",
       "      <td>19.1487</td>\n",
       "    </tr>\n",
       "  </tbody>\n",
       "</table>\n",
       "</div>"
      ],
      "text/plain": [
       "                                                        tweet  retweet_count  \\\n",
       "date                                                                           \n",
       "2019-07-03  Mexico is doing a far better job than the Demo...        24713.0   \n",
       "2019-06-27  Bipartisan Humanitarian Aid Bill for the South...        25170.0   \n",
       "2019-06-23  I want to give the Democrats every last chance...        24276.0   \n",
       "2019-06-19  Congratulations to President Lopez Obrador  M...        22674.0   \n",
       "2019-06-18  Next week ICE will begin the process of removi...        37105.0   \n",
       "\n",
       "            exchange_rate  \n",
       "date                       \n",
       "2019-07-03        19.2597  \n",
       "2019-06-27        19.2271  \n",
       "2019-06-23        18.9804  \n",
       "2019-06-19        19.1924  \n",
       "2019-06-18        19.1487  "
      ]
     },
     "execution_count": 10,
     "metadata": {},
     "output_type": "execute_result"
    }
   ],
   "source": [
    "union_df = pd.merge(new_tweets, e_r_data_df, how='inner', on = 'date').set_index(['date'])\n",
    "union_df.head()"
   ]
  },
  {
   "cell_type": "markdown",
   "metadata": {},
   "source": [
    "### Create database connection"
   ]
  },
  {
   "cell_type": "code",
   "execution_count": 13,
   "metadata": {},
   "outputs": [],
   "source": [
    "connection_string = \"postgres:postgres@localhost:5432/trump_vs_mex_db\"\n",
    "engine = create_engine(f'postgresql://{connection_string}')"
   ]
  },
  {
   "cell_type": "code",
   "execution_count": 14,
   "metadata": {},
   "outputs": [
    {
     "data": {
      "text/plain": [
       "['trump_twitter']"
      ]
     },
     "execution_count": 14,
     "metadata": {},
     "output_type": "execute_result"
    }
   ],
   "source": [
    "# Confirm tables\n",
    "engine.table_names()"
   ]
  },
  {
   "cell_type": "markdown",
   "metadata": {},
   "source": [
    "### Load DataFrames into database"
   ]
  },
  {
   "cell_type": "code",
   "execution_count": 15,
   "metadata": {},
   "outputs": [],
   "source": [
    "union_df.to_sql(name='trump_twitter', con=engine, if_exists='append', index = True)"
   ]
  },
  {
   "cell_type": "code",
   "execution_count": null,
   "metadata": {},
   "outputs": [],
   "source": []
  }
 ],
 "metadata": {
  "kernelspec": {
   "display_name": "Python 3",
   "language": "python",
   "name": "python3"
  },
  "language_info": {
   "codemirror_mode": {
    "name": "ipython",
    "version": 3
   },
   "file_extension": ".py",
   "mimetype": "text/x-python",
   "name": "python",
   "nbconvert_exporter": "python",
   "pygments_lexer": "ipython3",
   "version": "3.7.3"
  },
  "nteract": {
   "version": "0.12.3"
  }
 },
 "nbformat": 4,
 "nbformat_minor": 2
}
